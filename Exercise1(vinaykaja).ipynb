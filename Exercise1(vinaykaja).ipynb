{
  "nbformat": 4,
  "nbformat_minor": 0,
  "metadata": {
    "colab": {
      "provenance": [],
      "authorship_tag": "ABX9TyM64oL6xLuxzNkpZO0LuLrs",
      "include_colab_link": true
    },
    "kernelspec": {
      "name": "python3",
      "display_name": "Python 3"
    },
    "language_info": {
      "name": "python"
    }
  },
  "cells": [
    {
      "cell_type": "markdown",
      "metadata": {
        "id": "view-in-github",
        "colab_type": "text"
      },
      "source": [
        "<a href=\"https://colab.research.google.com/github/V1nayk/Advanced-Machine-Learning/blob/main/Exercise1(vinaykaja).ipynb\" target=\"_parent\"><img src=\"https://colab.research.google.com/assets/colab-badge.svg\" alt=\"Open In Colab\"/></a>"
      ]
    },
    {
      "cell_type": "markdown",
      "source": [
        "Write a Python program which iterates through integers from `1` to `50` (using a `for` loop). For an integer that is even, `append` it to the list `even_numbers`. For an integer that is odd, `append` it the list `odd_numbers`."
      ],
      "metadata": {
        "id": "AfyXZlRv9JBg"
      }
    },
    {
      "cell_type": "code",
      "source": [
        "# Lists to store even and odd numbers\n",
        "even_numbers = []\n",
        "odd_numbers = []\n",
        "\n",
        "# Iterate through numbers from 1 to 50\n",
        "for num in range(1, 51):\n",
        "    if num % 2 == 0:\n",
        "        even_numbers.append(num)\n",
        "    else:\n",
        "        odd_numbers.append(num)\n",
        "\n",
        "# Print results\n",
        "print(\"Even Numbers:\", even_numbers)\n",
        "print(\"Odd Numbers:\", odd_numbers)\n"
      ],
      "metadata": {
        "colab": {
          "base_uri": "https://localhost:8080/"
        },
        "id": "GxPs8STZ9KSX",
        "outputId": "20821e05-1286-4e8a-93a0-ecb9def862fb"
      },
      "execution_count": 1,
      "outputs": [
        {
          "output_type": "stream",
          "name": "stdout",
          "text": [
            "Even Numbers: [2, 4, 6, 8, 10, 12, 14, 16, 18, 20, 22, 24, 26, 28, 30, 32, 34, 36, 38, 40, 42, 44, 46, 48, 50]\n",
            "Odd Numbers: [1, 3, 5, 7, 9, 11, 13, 15, 17, 19, 21, 23, 25, 27, 29, 31, 33, 35, 37, 39, 41, 43, 45, 47, 49]\n"
          ]
        }
      ]
    }
  ]
}